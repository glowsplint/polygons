{
 "cells": [
  {
   "cell_type": "markdown",
   "metadata": {},
   "source": [
    "# Polygons"
   ]
  },
  {
   "cell_type": "code",
   "execution_count": 1,
   "metadata": {},
   "outputs": [
    {
     "data": {
      "application/javascript": "\n            setTimeout(function() {\n                var nbb_cell_id = 1;\n                var nbb_unformatted_code = \"%load_ext nb_black\";\n                var nbb_formatted_code = \"%load_ext nb_black\";\n                var nbb_cells = Jupyter.notebook.get_cells();\n                for (var i = 0; i < nbb_cells.length; ++i) {\n                    if (nbb_cells[i].input_prompt_number == nbb_cell_id) {\n                        if (nbb_cells[i].get_text() == nbb_unformatted_code) {\n                             nbb_cells[i].set_text(nbb_formatted_code);\n                        }\n                        break;\n                    }\n                }\n            }, 500);\n            ",
      "text/plain": [
       "<IPython.core.display.Javascript object>"
      ]
     },
     "metadata": {},
     "output_type": "display_data"
    }
   ],
   "source": [
    "%load_ext nb_black"
   ]
  },
  {
   "cell_type": "markdown",
   "metadata": {},
   "source": [
    "### Results"
   ]
  },
  {
   "cell_type": "code",
   "execution_count": 2,
   "metadata": {},
   "outputs": [
    {
     "data": {
      "application/javascript": "\n            setTimeout(function() {\n                var nbb_cell_id = 2;\n                var nbb_unformatted_code = \"import json\\nimport numpy as np\\nimport pandas as pd\\nimport matplotlib.pyplot as plt\\n\\nfrom decimal import *\";\n                var nbb_formatted_code = \"import json\\nimport numpy as np\\nimport pandas as pd\\nimport matplotlib.pyplot as plt\\n\\nfrom decimal import *\";\n                var nbb_cells = Jupyter.notebook.get_cells();\n                for (var i = 0; i < nbb_cells.length; ++i) {\n                    if (nbb_cells[i].input_prompt_number == nbb_cell_id) {\n                        if (nbb_cells[i].get_text() == nbb_unformatted_code) {\n                             nbb_cells[i].set_text(nbb_formatted_code);\n                        }\n                        break;\n                    }\n                }\n            }, 500);\n            ",
      "text/plain": [
       "<IPython.core.display.Javascript object>"
      ]
     },
     "metadata": {},
     "output_type": "display_data"
    }
   ],
   "source": [
    "import json\n",
    "import numpy as np\n",
    "import pandas as pd\n",
    "import matplotlib.pyplot as plt\n",
    "\n",
    "from decimal import *"
   ]
  },
  {
   "cell_type": "code",
   "execution_count": 3,
   "metadata": {},
   "outputs": [
    {
     "data": {
      "application/javascript": "\n            setTimeout(function() {\n                var nbb_cell_id = 3;\n                var nbb_unformatted_code = \"# Obtain results\\nwith open('results.json', \\\"r\\\", encoding=\\\"utf-8\\\") as f:\\n    results: dict[str, int] = json.load(f)\\n\\nsolved_values = {}\\nfor k,v in results.items():\\n    solved_values[int(k)] = v\";\n                var nbb_formatted_code = \"# Obtain results\\nwith open(\\\"results.json\\\", \\\"r\\\", encoding=\\\"utf-8\\\") as f:\\n    results: dict[str, int] = json.load(f)\\n\\nsolved_values = {}\\nfor k, v in results.items():\\n    solved_values[int(k)] = v\";\n                var nbb_cells = Jupyter.notebook.get_cells();\n                for (var i = 0; i < nbb_cells.length; ++i) {\n                    if (nbb_cells[i].input_prompt_number == nbb_cell_id) {\n                        if (nbb_cells[i].get_text() == nbb_unformatted_code) {\n                             nbb_cells[i].set_text(nbb_formatted_code);\n                        }\n                        break;\n                    }\n                }\n            }, 500);\n            ",
      "text/plain": [
       "<IPython.core.display.Javascript object>"
      ]
     },
     "metadata": {},
     "output_type": "display_data"
    }
   ],
   "source": [
    "# Obtain results\n",
    "with open('results.json', \"r\", encoding=\"utf-8\") as f:\n",
    "    results: dict[str, int] = json.load(f)\n",
    "\n",
    "solved_values = {}\n",
    "for k,v in results.items():\n",
    "    solved_values[int(k)] = v"
   ]
  },
  {
   "cell_type": "code",
   "execution_count": 4,
   "metadata": {},
   "outputs": [
    {
     "data": {
      "text/plain": [
       "<matplotlib.collections.PathCollection at 0x2365522b7f0>"
      ]
     },
     "execution_count": 4,
     "metadata": {},
     "output_type": "execute_result"
    },
    {
     "data": {
      "image/png": "[encoded data removed]",
      "text/plain": [
       "<Figure size 720x720 with 1 Axes>"
      ]
     },
     "metadata": {},
     "output_type": "display_data"
    },
    {
     "data": {
      "application/javascript": "\n            setTimeout(function() {\n                var nbb_cell_id = 4;\n                var nbb_unformatted_code = \"a,b = zip(*solved_values.items())\\n\\ndata = {\\n    'n': a,\\n    'paths': [Decimal(item) for item in b]\\n}\\n\\ndf = pd.DataFrame.from_dict(data)\\n\\n# Analysis\\ndf['ln_paths'] = df['paths'].apply(lambda x: x.ln())\\ndf['ln_paths'] = df['ln_paths'].astype(np.float32)\\ndf['cubert_ln_paths'] = np.cbrt(df['ln_paths'])\\n\\n# Preparing final plot\\ndf = df[['n', 'cubert_ln_paths']].copy()\\nfig, ax = plt.subplots(figsize=(10,10))\\nfig.patch.set_facecolor('w')\\nax.set_xlabel('n')\\nax.set_ylabel('(ln(y))^(1/3)')\\nax.set_title('Growth rate of (ln(y))^(1/3) in n')\\nax.grid(axis='both', alpha=0.2)\\nax.scatter(x=df.n, y=df.cubert_ln_paths)\";\n                var nbb_formatted_code = \"a, b = zip(*solved_values.items())\\n\\ndata = {\\\"n\\\": a, \\\"paths\\\": [Decimal(item) for item in b]}\\n\\ndf = pd.DataFrame.from_dict(data)\\n\\n# Analysis\\ndf[\\\"ln_paths\\\"] = df[\\\"paths\\\"].apply(lambda x: x.ln())\\ndf[\\\"ln_paths\\\"] = df[\\\"ln_paths\\\"].astype(np.float32)\\ndf[\\\"cubert_ln_paths\\\"] = np.cbrt(df[\\\"ln_paths\\\"])\\n\\n# Preparing final plot\\ndf = df[[\\\"n\\\", \\\"cubert_ln_paths\\\"]].copy()\\nfig, ax = plt.subplots(figsize=(10, 10))\\nfig.patch.set_facecolor(\\\"w\\\")\\nax.set_xlabel(\\\"n\\\")\\nax.set_ylabel(\\\"(ln(y))^(1/3)\\\")\\nax.set_title(\\\"Growth rate of (ln(y))^(1/3) in n\\\")\\nax.grid(axis=\\\"both\\\", alpha=0.2)\\nax.scatter(x=df.n, y=df.cubert_ln_paths)\";\n                var nbb_cells = Jupyter.notebook.get_cells();\n                for (var i = 0; i < nbb_cells.length; ++i) {\n                    if (nbb_cells[i].input_prompt_number == nbb_cell_id) {\n                        if (nbb_cells[i].get_text() == nbb_unformatted_code) {\n                             nbb_cells[i].set_text(nbb_formatted_code);\n                        }\n                        break;\n                    }\n                }\n            }, 500);\n            ",
      "text/plain": [
       "<IPython.core.display.Javascript object>"
      ]
     },
     "metadata": {},
     "output_type": "display_data"
    }
   ],
   "source": [
    "a,b = zip(*solved_values.items())\n",
    "\n",
    "data = {\n",
    "    'n': a,\n",
    "    'paths': [Decimal(item) for item in b]\n",
    "}\n",
    "\n",
    "df = pd.DataFrame.from_dict(data)\n",
    "\n",
    "# Analysis\n",
    "df['ln_paths'] = df['paths'].apply(lambda x: x.ln())\n",
    "df['ln_paths'] = df['ln_paths'].astype(np.float32)\n",
    "df['cubert_ln_paths'] = np.cbrt(df['ln_paths'])\n",
    "\n",
    "# Preparing final plot\n",
    "df = df[['n', 'cubert_ln_paths']].copy()\n",
    "fig, ax = plt.subplots(figsize=(10,10))\n",
    "fig.patch.set_facecolor('w')\n",
    "ax.set_xlabel('n')\n",
    "ax.set_ylabel('(ln(y))^(1/3)')\n",
    "ax.set_title('Growth rate of (ln(y))^(1/3) in n')\n",
    "ax.grid(axis='both', alpha=0.2)\n",
    "ax.scatter(x=df.n, y=df.cubert_ln_paths)"
   ]
  },
  {
   "cell_type": "markdown",
   "metadata": {},
   "source": [
    "As the plot is close to linear, we think that the growth rate in $n$ (where $n$ is the number of sides of the polygon) is $e^{n^3}$."
   ]
  }
 ],
 "metadata": {
  "kernelspec": {
   "display_name": "Python 3.10.4 ('python-RpQQnyOL')",
   "language": "python",
   "name": "python3"
  },
  "language_info": {
   "codemirror_mode": {
    "name": "ipython",
    "version": 3
   },
   "file_extension": ".py",
   "mimetype": "text/x-python",
   "name": "python",
   "nbconvert_exporter": "python",
   "pygments_lexer": "ipython3",
   "version": "3.10.4"
  },
  "vscode": {
   "interpreter": {
    "hash": "21eb32cf5e2c8b3ef7d0fe87ff70f00e2e8c0fd538a9397aa69e167a2b7b1434"
   }
  }
 },
 "nbformat": 4,
 "nbformat_minor": 4
}
