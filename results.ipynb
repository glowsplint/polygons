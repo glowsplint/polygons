{
 "cells": [
  {
   "cell_type": "markdown",
   "metadata": {},
   "source": [
    "# Polygons"
   ]
  },
  {
   "cell_type": "markdown",
   "metadata": {},
   "source": [
    "### Results"
   ]
  },
  {
   "cell_type": "code",
   "execution_count": 1,
   "metadata": {},
   "outputs": [],
   "source": [
    "import numpy as np\n",
    "import pandas as pd\n",
    "import matplotlib.pyplot as plt\n",
    "\n",
    "from decimal import *\n",
    "from results import solved_values"
   ]
  },
  {
   "cell_type": "code",
   "execution_count": 2,
   "metadata": {},
   "outputs": [
    {
     "data": {
      "text/plain": [
       "<matplotlib.collections.PathCollection at 0x210cd534a30>"
      ]
     },
     "execution_count": 2,
     "metadata": {},
     "output_type": "execute_result"
    },
    {
     "data": {
      "image/png": "[encoded data removed]",
      "text/plain": [
       "<Figure size 720x720 with 1 Axes>"
      ]
     },
     "metadata": {
      "needs_background": "light"
     },
     "output_type": "display_data"
    }
   ],
   "source": [
    "a,b = zip(*solved_values.items())\n",
    "\n",
    "data = {\n",
    "    'n': a,\n",
    "    'paths': [Decimal(item) for item in b]\n",
    "}\n",
    "\n",
    "df = pd.DataFrame.from_dict(data)\n",
    "\n",
    "# Analysis\n",
    "df['ln_paths'] = df['paths'].apply(lambda x: x.ln())\n",
    "df['ln_paths'] = df['ln_paths'].astype(np.float32)\n",
    "df['cubert_ln_paths'] = np.cbrt(df['ln_paths'])\n",
    "\n",
    "# Preparing final plot\n",
    "df = df[['n', 'cubert_ln_paths']].copy()\n",
    "fig, ax = plt.subplots(figsize=(10,10))\n",
    "ax.grid(axis='both', alpha=0.2)\n",
    "ax.scatter(x=df.n, y=df.cubert_ln_paths)"
   ]
  },
  {
   "cell_type": "markdown",
   "metadata": {},
   "source": [
    "### Debugging\n",
    "#### Assertion errors\n",
    "The following code below is used for debugging purposes when the assertion does not hold."
   ]
  },
  {
   "cell_type": "code",
   "execution_count": null,
   "metadata": {},
   "outputs": [],
   "source": [
    "all_points = sorted(list(solver.point_ls.keys()), key=operator.attrgetter('x', 'y'))"
   ]
  },
  {
   "cell_type": "code",
   "execution_count": null,
   "metadata": {},
   "outputs": [],
   "source": [
    "def sliding_window_iter(iterable, size):\n",
    "    # https://codereview.stackexchange.com/questions/239352/sliding-window-iteration-in-python\n",
    "    iterables = itertools.tee(iter(iterable), size)\n",
    "    window = zip(*(itertools.islice(t, n, None) for n,t in enumerate(iterables)))\n",
    "    yield from window"
   ]
  },
  {
   "cell_type": "code",
   "execution_count": null,
   "metadata": {},
   "outputs": [],
   "source": [
    "similar_points = set()\n",
    "for item in tqdm(sliding_window_iter(all_points, 5), total=len(all_points)):\n",
    "    for a,b in itertools.combinations(item,2):\n",
    "        if abs(a.x - b.x) < TOLERANCE and abs(a.y - b.y) < TOLERANCE:\n",
    "            similar_points.add((a,b))\n",
    "similar_points = list(similar_points)"
   ]
  },
  {
   "cell_type": "code",
   "execution_count": null,
   "metadata": {},
   "outputs": [],
   "source": [
    "similar_points"
   ]
  },
  {
   "cell_type": "markdown",
   "metadata": {},
   "source": [
    "As the plot is close to linear, we think that the growth rate in $n$ (where $n$ is the number of sides of the polygon) is $e^{n^3}$."
   ]
  }
 ],
 "metadata": {
  "kernelspec": {
   "display_name": "Python 3",
   "language": "python",
   "name": "python3"
  },
  "language_info": {
   "codemirror_mode": {
    "name": "ipython",
    "version": 3
   },
   "file_extension": ".py",
   "mimetype": "text/x-python",
   "name": "python",
   "nbconvert_exporter": "python",
   "pygments_lexer": "ipython3",
   "version": "3.8.8"
  }
 },
 "nbformat": 4,
 "nbformat_minor": 4
}
