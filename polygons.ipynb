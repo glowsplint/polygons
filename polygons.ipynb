{
 "cells": [
  {
   "cell_type": "markdown",
   "metadata": {},
   "source": [
    "# Polygons"
   ]
  },
  {
   "cell_type": "markdown",
   "metadata": {},
   "source": [
    "## The Solution"
   ]
  },
  {
   "cell_type": "code",
   "execution_count": 1,
   "metadata": {},
   "outputs": [],
   "source": [
    "import numpy as np\n",
    "import pandas as pd\n",
    "import itertools\n",
    "import operator\n",
    "\n",
    "from decimal import *\n",
    "from decimal_math import sin, cos\n",
    "from math import pi, sqrt, comb\n",
    "from typing import List, Tuple, Set, Dict\n",
    "from functools import cached_property, lru_cache\n",
    "from matplotlib import pyplot as plt\n",
    "from tqdm.auto import tqdm, trange"
   ]
  },
  {
   "cell_type": "code",
   "execution_count": 2,
   "metadata": {},
   "outputs": [
    {
     "data": {
      "text/plain": [
       "Context(prec=28, rounding=ROUND_HALF_EVEN, Emin=-999999, Emax=999999, capitals=1, clamp=0, flags=[], traps=[InvalidOperation, DivisionByZero, Overflow])"
      ]
     },
     "execution_count": 2,
     "metadata": {},
     "output_type": "execute_result"
    }
   ],
   "source": [
    "getcontext()"
   ]
  },
  {
   "cell_type": "code",
   "execution_count": 3,
   "metadata": {},
   "outputs": [],
   "source": [
    "TOLERANCE = Decimal(1e-10)\n",
    "PRECISION = 10\n",
    "\n",
    "def zeroise(a: float or None) -> bool:\n",
    "    if a is None:\n",
    "        return None\n",
    "    return a if abs(a) > TOLERANCE else 0"
   ]
  },
  {
   "cell_type": "code",
   "execution_count": 4,
   "metadata": {},
   "outputs": [],
   "source": [
    "class Point:\n",
    "    \n",
    "    def __init__(self, x: float, y: float, precision=PRECISION):\n",
    "        self.x = round(zeroise(Decimal(x)), precision)\n",
    "        self.y = round(zeroise(Decimal(y)), precision)\n",
    "        \n",
    "    @classmethod\n",
    "    def from_intersection(cls, L1:\"LineSegment\"=None, L2:\"LineSegment\"=None) -> \"Point\":\n",
    "        '''\n",
    "        Alternate constructor for Point via intersection of two LineSegments.\n",
    "        '''\n",
    "        a1, b1, c1 = (L1.p2.x - L1.p1.x), (L2.p1.x - L2.p2.x), (L2.p1.x - L1.p1.x)\n",
    "        a2, b2, c2 = (L1.p2.y - L1.p1.y), (L2.p1.y - L2.p2.y), (L2.p1.y - L1.p1.y)\n",
    "        \n",
    "        D  = a1 * b2 - b1 * a2\n",
    "        Dx = c1 * b2 - b1 * c2\n",
    "        Dy = a1 * c2 - c1 * a2\n",
    "        \n",
    "        if D != 0:\n",
    "            s = Dx / D\n",
    "            t = Dy / D\n",
    "            \n",
    "            if not (0 <= s <= 1 and 0 <= t <= 1):\n",
    "                return None\n",
    "        else:\n",
    "            return None\n",
    "        \n",
    "        return cls((1-s)*L1.p1.x + s*L1.p2.x, (1-s)*L1.p1.y + s*L1.p2.y)\n",
    "\n",
    "    def reduced_precision(self, precision=PRECISION) -> \"Point\":\n",
    "        x = round(zeroise(Decimal(self.x)), precision)\n",
    "        y = round(zeroise(Decimal(self.y)), precision)\n",
    "        return Point(x, y)\n",
    "    \n",
    "    def connecting_edges(self, polygon_solver) -> Set[\"LineSegment\"]:\n",
    "        '''\n",
    "        Method by which the point becomes aware of its adjacent edges.\n",
    "        Can be created at intersection time in the future.\n",
    "        '''\n",
    "        return polygon_solver.point_ls[self]\n",
    "    \n",
    "    @lru_cache(maxsize=None)\n",
    "    def dependent_edges(self, polygon_solver) -> Set[\"LineSegment\"]:\n",
    "        '''\n",
    "        Provides the edges that we depend on to calculate self.value.\n",
    "        In approach one, these are the edges that point towards self.\n",
    "        '''\n",
    "        return set(edge for edge in self.connecting_edges(polygon_solver) if edge.direction(self))\n",
    "        \n",
    "    @lru_cache(maxsize=None)\n",
    "    def value(self, polygon_solver) -> int:\n",
    "        '''\n",
    "        Recursively calculates the number of paths we can take from the start node to this node by summing over\n",
    "            the nodes of dependent edges.\n",
    "        '''\n",
    "        if not self.dependent_edges(polygon_solver):\n",
    "            return 1\n",
    "        return sum(edge.other_end(self).value(polygon_solver) for edge in self.dependent_edges(polygon_solver))\n",
    "    \n",
    "    def show_dependencies(self, polygon_solver, n: int) -> List[\"Point\"]:\n",
    "        '''\n",
    "        Returns the n-th level of dependent nodes in the graph.\n",
    "        '''\n",
    "        current = set([self])\n",
    "        for i in range(n):\n",
    "            current = set(edge.other_end(point) for point in current for edge in point.dependent_edges(polygon_solver))\n",
    "        return sorted(list(current), key=operator.attrgetter('x', 'y'))\n",
    "    \n",
    "    def __eq__(self, other) -> bool:\n",
    "        if isinstance(other, Point):\n",
    "            return not zeroise(self.x - other.x) and not zeroise(self.y - other.y)\n",
    "        raise TypeError(f'Unable to compare Point and {other}.')\n",
    "\n",
    "    def __hash__(self):\n",
    "        return hash((self.x, self.y))\n",
    "    \n",
    "    def __repr__(self) -> str:\n",
    "        return f\"Point({self.x}, {self.y})\""
   ]
  },
  {
   "cell_type": "code",
   "execution_count": 5,
   "metadata": {},
   "outputs": [],
   "source": [
    "class LineSegment:\n",
    "    def __init__(self, p1: \"Point\", p2: \"Point\"):\n",
    "        self.p1, self.p2 = sorted([p1, p2], key=operator.attrgetter('x','y'))\n",
    "        \n",
    "    @cached_property\n",
    "    def L2(self) -> float:\n",
    "        return sqrt((self.p1.x - self.p2.x)**2 + (self.p1.y - self.p2.y)**2)\n",
    "    \n",
    "   \n",
    "    @cached_property\n",
    "    def mid(self) -> \"Point\":\n",
    "        return Point((self.p1.x + self.p2.x)/2, (self.p1.y + self.p2.y)/2)\n",
    "    \n",
    "    def direction(self, pt:\"Point\"=None) -> bool:\n",
    "        '''\n",
    "        Provides the direction label for the graph, by comparing the L2 distances (p1-to-end, p2-to-end).\n",
    "            True if p1-to-p2; False if p2-to-p1.\n",
    "        \n",
    "        If the argument <pt> is provided, then returns True if the direction is pointing towards <pt> (which\n",
    "            should be one of the ends of the line segment).\n",
    "        \n",
    "        Caution: This method should only be used when there are no intersection points between self.p1 and self.p2.\n",
    "            Otherwise, it does not return a useful directional label.\n",
    "        '''\n",
    "        direction = LineSegment(self.p1, END).L2 > LineSegment(self.p2, END).L2\n",
    "        if pt is None:\n",
    "            return direction\n",
    "        else:\n",
    "            return direction if pt == self.p2 else (not direction)\n",
    "\n",
    "    @cached_property\n",
    "    def gradient(self) -> Tuple[float, float]:\n",
    "        '''\n",
    "        Creates a tuple used in the visualisation of the direction.\n",
    "        '''\n",
    "        p1, p2 = self.p1, self.p2\n",
    "        multiplier = 1 if self.direction() else -1\n",
    "        x_coeff = 0 if p1.x == p2.x else 1\n",
    "        delta = Decimal(0.01)\n",
    "        \n",
    "        if p2.y > p1.y:\n",
    "            y_coeff = 1\n",
    "        elif p1.y == p2.y:\n",
    "            y_coeff = 0\n",
    "        else:\n",
    "            y_coeff = -1\n",
    "        \n",
    "        try:\n",
    "            return (multiplier*x_coeff*delta, multiplier*y_coeff*delta*abs((p2.y - p1.y)/(p2.x - p1.x)))\n",
    "        except (DivisionByZero, InvalidOperation):\n",
    "            return (0, multiplier*delta)\n",
    "    \n",
    "    def other_end(self, p: \"Point\") -> \"Point\":\n",
    "        '''\n",
    "        Returns the other end of the line if one end is given, None otherwise.\n",
    "        '''\n",
    "        if p == self.p1:\n",
    "            return self.p2\n",
    "        elif p == self.p2:\n",
    "            return self.p1\n",
    "        else:\n",
    "            return None\n",
    "        \n",
    "    def __eq__(self, other) -> bool:\n",
    "        if isinstance(other, LineSegment):\n",
    "            return self.p1 == other.p1 and self.p2 == other.p2\n",
    "        return False\n",
    "    \n",
    "    def __hash__(self):\n",
    "        return hash((self.p1, self.p2))\n",
    "    \n",
    "    def __repr__(self) -> str:\n",
    "        return f\"LineSegment({self.p1}, {self.p2})\"    "
   ]
  },
  {
   "cell_type": "code",
   "execution_count": 6,
   "metadata": {},
   "outputs": [],
   "source": [
    "END = Point(-1,0)\n",
    "START = Point(1,0)"
   ]
  },
  {
   "cell_type": "code",
   "execution_count": 7,
   "metadata": {},
   "outputs": [],
   "source": [
    "class PolygonSolver:\n",
    "    def __init__(self, n, plot=False, **kwargs):\n",
    "        '''\n",
    "        Creating an instance will create the regular polygon.\n",
    "        '''\n",
    "        self.n = n\n",
    "        self.polygon = self.create_regular_polygon(n)\n",
    "        \n",
    "        self.line_segments = None\n",
    "        self.point_ls = None\n",
    "        self.create_line_segments()\n",
    "        \n",
    "        if plot:\n",
    "            self.plot_polygon_graph(**kwargs)\n",
    "\n",
    "    @classmethod\n",
    "    def find_next_coordinate(self, xy: Tuple[Decimal, Decimal], t: Decimal) -> Tuple[Decimal, Decimal]:\n",
    "        '''\n",
    "        Refer to https://en.wikipedia.org/wiki/Rotation_matrix for the mathematical grounding behind this.\n",
    "        '''\n",
    "        x, y = xy\n",
    "        return Point(x*cos(t) - y*sin(t), x*sin(t) + y*cos(t), 25)\n",
    "            \n",
    "    @classmethod\n",
    "    def create_regular_polygon(self, n: int) -> List[Tuple]:\n",
    "        '''\n",
    "        Defines a polygon as the List of (x,y) coordinates of the vertices.\n",
    "        '''\n",
    "        theta = Decimal(2/n * pi)\n",
    "        polygon = []\n",
    "        previous = START\n",
    "\n",
    "        for i in range(n):\n",
    "            polygon.append(previous)\n",
    "            previous = self.find_next_coordinate((previous.x, previous.y), theta)\n",
    "            \n",
    "        return polygon\n",
    "    \n",
    "    @cached_property\n",
    "    def lines(self) -> List[LineSegment]:\n",
    "        return [LineSegment(a,b) for a,b in itertools.combinations(self.polygon, 2)]\n",
    "    \n",
    "    @cached_property\n",
    "    def line2points(self) -> Dict[LineSegment, Set[Point]]:\n",
    "        '''\n",
    "        Contains the information of where each line is mapped to every point on it.\n",
    "        '''\n",
    "        line2points = dict()  \n",
    "        for line in self.lines:\n",
    "            line2points[line] = set([line.p1, line.p2])\n",
    "\n",
    "        for a, b in itertools.combinations(self.lines, 2):\n",
    "            point = Point.from_intersection(a,b)\n",
    "\n",
    "            if point is not None:\n",
    "                line2points[a].add(point)\n",
    "                line2points[b].add(point)\n",
    "\n",
    "        return line2points\n",
    "    \n",
    "    def create_line_segments(self) -> None:\n",
    "        line_segments = set()\n",
    "        point_ls = dict()\n",
    "        \n",
    "        for ls, p in self.line2points.items():\n",
    "            if len(p) == 2:\n",
    "                line_segments.add(ls)\n",
    "            else:\n",
    "                sorted_points = sorted([item.reduced_precision() for item in p], key=operator.attrgetter('x','y'))\n",
    "                for previous, current in zip(sorted_points, sorted_points[1:]):\n",
    "                    if previous != current:\n",
    "                        edge = LineSegment(previous, current)\n",
    "                        line_segments.add(edge)\n",
    "                        for item in (previous, current):\n",
    "                            if item not in point_ls:\n",
    "                                point_ls[item] = set([edge])\n",
    "                            else:\n",
    "                                point_ls[item].add(edge)\n",
    "                                \n",
    "        self.line_segments = line_segments\n",
    "        self.point_ls = point_ls\n",
    "\n",
    "    def plot_polygon_graph(self, figsize:int=8, lines:bool=True, points:bool=True, values:bool=True,\n",
    "                           point_size:float=1, head_width:float=0.03):\n",
    "        x, y = [point.x for point in self.point_ls], [point.y for point in self.point_ls]\n",
    "\n",
    "        # Configurations\n",
    "        limit = 1.1\n",
    "        head_width = head_width\n",
    "        offset = -0.07\n",
    "\n",
    "        fig, ax = plt.subplots(figsize=(figsize,figsize))\n",
    "        ax.set_xlim(-limit, limit)\n",
    "        ax.set_ylim(-limit, limit)\n",
    "        ax.set_aspect('equal', adjustable='box')\n",
    "        ax.grid(axis='both', alpha=0.2)\n",
    "\n",
    "        # Lines\n",
    "        if lines:\n",
    "            for line in self.line_segments:\n",
    "                color = next(ax._get_lines.prop_cycler)['color']\n",
    "                ax.plot([line.p1.x, line.p2.x], [line.p1.y, line.p2.y], color=color)\n",
    "                plt.arrow(x=line.mid.x, y=line.mid.y,\n",
    "                          dx=line.gradient[0], dy=line.gradient[1],\n",
    "                          lw=0, color=color, length_includes_head=True, head_width=head_width)\n",
    "\n",
    "        # Points\n",
    "        if points:\n",
    "            ax.scatter(x, y, c=\"black\", s=point_size)\n",
    "\n",
    "        # Values\n",
    "        if values:\n",
    "            for pt in self.point_ls:\n",
    "                plt.annotate(pt.value(self), (pt.x+offset, pt.y+offset))\n",
    "    \n",
    "    def check_intersections(self):\n",
    "        '''\n",
    "        Returns the total number of intersections for an even regular n-sided polygon.\n",
    "        Formula from <https://www.math.uwaterloo.ca/~mrubinst/publications/ngon.pdf>\n",
    "        '''\n",
    "        def is_multiple(x: int, y: int) -> bool:\n",
    "            return x % y == 0\n",
    "\n",
    "        n = self.n\n",
    "        d = is_multiple\n",
    "        interior = (comb(n, 4) + (-5*n**3 + 45*n**2 - 70*n + 24)/24*d(n,2) - (3*n/2)*d(n,4) + (-45*n**2 + 262*n)/6*d(n,6)\n",
    "                    + 42*n*d(n,12) + 60*n*d(n,18) + 35*n*d(n,24) - 38*n*d(n,30) - 82*n*d(n,42) - 330*n*d(n,60)\n",
    "                    - 144*n*d(n, 84) - 96*n*d(n,90) - 144*n*d(n,120) - 96*n*d(n,210))\n",
    "        \n",
    "        try:\n",
    "            assert self.n + interior == len(self.point_ls)\n",
    "            print(f'n = {n}, total number of points = {len(self.point_ls)}')\n",
    "        except AssertionError:\n",
    "            diff = len(self.point_ls) - int(self.n) - int(interior)\n",
    "            raise AssertionError(f'Theoretical number of points ({int(self.n)} + {int(interior)} = {int(self.n + interior)}) not equal to calculated number of points ({len(self.point_ls)}). Difference of {diff}.')\n",
    "    \n",
    "    @lru_cache(maxsize=None)\n",
    "    def solve(self):\n",
    "        return sorted(self.point_ls.keys(), key=operator.attrgetter('x', 'y'))[0].value(self)\n",
    "    \n",
    "    @lru_cache(maxsize=None)\n",
    "    def progressive_solve(self):\n",
    "        '''\n",
    "        Intended as an alternative solver that allows us to progressively solve the graph.\n",
    "        Allows us to see a progress bar with a marginal performance hit compared to PolygonSolver.solve().\n",
    "        '''\n",
    "        iterable = sorted(self.point_ls.keys(), key=operator.attrgetter('x', 'y'), reverse=True)\n",
    "        for item in tqdm(iterable, total=len(iterable)):\n",
    "            item.value(self)\n",
    "        return iterable[-1].value(self)"
   ]
  },
  {
   "cell_type": "code",
   "execution_count": 8,
   "metadata": {
    "scrolled": false
   },
   "outputs": [
    {
     "name": "stdout",
     "output_type": "stream",
     "text": [
      "n = 80, total number of points = 1486641\n"
     ]
    },
    {
     "data": {
      "application/vnd.jupyter.widget-view+json": {
       "model_id": "f27b768382dc4042a8576615cce07bb5",
       "version_major": 2,
       "version_minor": 0
      },
      "text/plain": [
       "HBox(children=(HTML(value=''), FloatProgress(value=0.0, max=1486641.0), HTML(value='')))"
      ]
     },
     "metadata": {},
     "output_type": "display_data"
    },
    {
     "name": "stdout",
     "output_type": "stream",
     "text": [
      "\n"
     ]
    },
    {
     "ename": "RecursionError",
     "evalue": "maximum recursion depth exceeded while calling a Python object",
     "output_type": "error",
     "traceback": [
      "\u001b[1;31m---------------------------------------------------------------------------\u001b[0m",
      "\u001b[1;31mRecursionError\u001b[0m                            Traceback (most recent call last)",
      "\u001b[1;32m<timed exec>\u001b[0m in \u001b[0;36m<module>\u001b[1;34m\u001b[0m\n",
      "\u001b[1;32m<ipython-input-7-ec92b63a4107>\u001b[0m in \u001b[0;36mprogressive_solve\u001b[1;34m(self)\u001b[0m\n\u001b[0;32m    147\u001b[0m         \u001b[0miterable\u001b[0m \u001b[1;33m=\u001b[0m \u001b[0msorted\u001b[0m\u001b[1;33m(\u001b[0m\u001b[0mself\u001b[0m\u001b[1;33m.\u001b[0m\u001b[0mpoint_ls\u001b[0m\u001b[1;33m.\u001b[0m\u001b[0mkeys\u001b[0m\u001b[1;33m(\u001b[0m\u001b[1;33m)\u001b[0m\u001b[1;33m,\u001b[0m \u001b[0mkey\u001b[0m\u001b[1;33m=\u001b[0m\u001b[0moperator\u001b[0m\u001b[1;33m.\u001b[0m\u001b[0mattrgetter\u001b[0m\u001b[1;33m(\u001b[0m\u001b[1;34m'x'\u001b[0m\u001b[1;33m,\u001b[0m \u001b[1;34m'y'\u001b[0m\u001b[1;33m)\u001b[0m\u001b[1;33m,\u001b[0m \u001b[0mreverse\u001b[0m\u001b[1;33m=\u001b[0m\u001b[1;32mTrue\u001b[0m\u001b[1;33m)\u001b[0m\u001b[1;33m\u001b[0m\u001b[1;33m\u001b[0m\u001b[0m\n\u001b[0;32m    148\u001b[0m         \u001b[1;32mfor\u001b[0m \u001b[0mitem\u001b[0m \u001b[1;32min\u001b[0m \u001b[0mtqdm\u001b[0m\u001b[1;33m(\u001b[0m\u001b[0miterable\u001b[0m\u001b[1;33m,\u001b[0m \u001b[0mtotal\u001b[0m\u001b[1;33m=\u001b[0m\u001b[0mlen\u001b[0m\u001b[1;33m(\u001b[0m\u001b[0miterable\u001b[0m\u001b[1;33m)\u001b[0m\u001b[1;33m)\u001b[0m\u001b[1;33m:\u001b[0m\u001b[1;33m\u001b[0m\u001b[1;33m\u001b[0m\u001b[0m\n\u001b[1;32m--> 149\u001b[1;33m             \u001b[0mitem\u001b[0m\u001b[1;33m.\u001b[0m\u001b[0mvalue\u001b[0m\u001b[1;33m(\u001b[0m\u001b[0mself\u001b[0m\u001b[1;33m)\u001b[0m\u001b[1;33m\u001b[0m\u001b[1;33m\u001b[0m\u001b[0m\n\u001b[0m\u001b[0;32m    150\u001b[0m         \u001b[1;32mreturn\u001b[0m \u001b[0miterable\u001b[0m\u001b[1;33m[\u001b[0m\u001b[1;33m-\u001b[0m\u001b[1;36m1\u001b[0m\u001b[1;33m]\u001b[0m\u001b[1;33m.\u001b[0m\u001b[0mvalue\u001b[0m\u001b[1;33m(\u001b[0m\u001b[0mself\u001b[0m\u001b[1;33m)\u001b[0m\u001b[1;33m\u001b[0m\u001b[1;33m\u001b[0m\u001b[0m\n",
      "\u001b[1;32m<ipython-input-4-b65b407a076b>\u001b[0m in \u001b[0;36mvalue\u001b[1;34m(self, polygon_solver)\u001b[0m\n\u001b[0;32m     56\u001b[0m         \u001b[1;32mif\u001b[0m \u001b[1;32mnot\u001b[0m \u001b[0mself\u001b[0m\u001b[1;33m.\u001b[0m\u001b[0mdependent_edges\u001b[0m\u001b[1;33m(\u001b[0m\u001b[0mpolygon_solver\u001b[0m\u001b[1;33m)\u001b[0m\u001b[1;33m:\u001b[0m\u001b[1;33m\u001b[0m\u001b[1;33m\u001b[0m\u001b[0m\n\u001b[0;32m     57\u001b[0m             \u001b[1;32mreturn\u001b[0m \u001b[1;36m1\u001b[0m\u001b[1;33m\u001b[0m\u001b[1;33m\u001b[0m\u001b[0m\n\u001b[1;32m---> 58\u001b[1;33m         \u001b[1;32mreturn\u001b[0m \u001b[0msum\u001b[0m\u001b[1;33m(\u001b[0m\u001b[0medge\u001b[0m\u001b[1;33m.\u001b[0m\u001b[0mother_end\u001b[0m\u001b[1;33m(\u001b[0m\u001b[0mself\u001b[0m\u001b[1;33m)\u001b[0m\u001b[1;33m.\u001b[0m\u001b[0mvalue\u001b[0m\u001b[1;33m(\u001b[0m\u001b[0mpolygon_solver\u001b[0m\u001b[1;33m)\u001b[0m \u001b[1;32mfor\u001b[0m \u001b[0medge\u001b[0m \u001b[1;32min\u001b[0m \u001b[0mself\u001b[0m\u001b[1;33m.\u001b[0m\u001b[0mdependent_edges\u001b[0m\u001b[1;33m(\u001b[0m\u001b[0mpolygon_solver\u001b[0m\u001b[1;33m)\u001b[0m\u001b[1;33m)\u001b[0m\u001b[1;33m\u001b[0m\u001b[1;33m\u001b[0m\u001b[0m\n\u001b[0m\u001b[0;32m     59\u001b[0m \u001b[1;33m\u001b[0m\u001b[0m\n\u001b[0;32m     60\u001b[0m     \u001b[1;32mdef\u001b[0m \u001b[0m__eq__\u001b[0m\u001b[1;33m(\u001b[0m\u001b[0mself\u001b[0m\u001b[1;33m,\u001b[0m \u001b[0mother\u001b[0m\u001b[1;33m)\u001b[0m \u001b[1;33m->\u001b[0m \u001b[0mbool\u001b[0m\u001b[1;33m:\u001b[0m\u001b[1;33m\u001b[0m\u001b[1;33m\u001b[0m\u001b[0m\n",
      "\u001b[1;32m<ipython-input-4-b65b407a076b>\u001b[0m in \u001b[0;36m<genexpr>\u001b[1;34m(.0)\u001b[0m\n\u001b[0;32m     56\u001b[0m         \u001b[1;32mif\u001b[0m \u001b[1;32mnot\u001b[0m \u001b[0mself\u001b[0m\u001b[1;33m.\u001b[0m\u001b[0mdependent_edges\u001b[0m\u001b[1;33m(\u001b[0m\u001b[0mpolygon_solver\u001b[0m\u001b[1;33m)\u001b[0m\u001b[1;33m:\u001b[0m\u001b[1;33m\u001b[0m\u001b[1;33m\u001b[0m\u001b[0m\n\u001b[0;32m     57\u001b[0m             \u001b[1;32mreturn\u001b[0m \u001b[1;36m1\u001b[0m\u001b[1;33m\u001b[0m\u001b[1;33m\u001b[0m\u001b[0m\n\u001b[1;32m---> 58\u001b[1;33m         \u001b[1;32mreturn\u001b[0m \u001b[0msum\u001b[0m\u001b[1;33m(\u001b[0m\u001b[0medge\u001b[0m\u001b[1;33m.\u001b[0m\u001b[0mother_end\u001b[0m\u001b[1;33m(\u001b[0m\u001b[0mself\u001b[0m\u001b[1;33m)\u001b[0m\u001b[1;33m.\u001b[0m\u001b[0mvalue\u001b[0m\u001b[1;33m(\u001b[0m\u001b[0mpolygon_solver\u001b[0m\u001b[1;33m)\u001b[0m \u001b[1;32mfor\u001b[0m \u001b[0medge\u001b[0m \u001b[1;32min\u001b[0m \u001b[0mself\u001b[0m\u001b[1;33m.\u001b[0m\u001b[0mdependent_edges\u001b[0m\u001b[1;33m(\u001b[0m\u001b[0mpolygon_solver\u001b[0m\u001b[1;33m)\u001b[0m\u001b[1;33m)\u001b[0m\u001b[1;33m\u001b[0m\u001b[1;33m\u001b[0m\u001b[0m\n\u001b[0m\u001b[0;32m     59\u001b[0m \u001b[1;33m\u001b[0m\u001b[0m\n\u001b[0;32m     60\u001b[0m     \u001b[1;32mdef\u001b[0m \u001b[0m__eq__\u001b[0m\u001b[1;33m(\u001b[0m\u001b[0mself\u001b[0m\u001b[1;33m,\u001b[0m \u001b[0mother\u001b[0m\u001b[1;33m)\u001b[0m \u001b[1;33m->\u001b[0m \u001b[0mbool\u001b[0m\u001b[1;33m:\u001b[0m\u001b[1;33m\u001b[0m\u001b[1;33m\u001b[0m\u001b[0m\n",
      "... last 2 frames repeated, from the frame below ...\n",
      "\u001b[1;32m<ipython-input-4-b65b407a076b>\u001b[0m in \u001b[0;36mvalue\u001b[1;34m(self, polygon_solver)\u001b[0m\n\u001b[0;32m     56\u001b[0m         \u001b[1;32mif\u001b[0m \u001b[1;32mnot\u001b[0m \u001b[0mself\u001b[0m\u001b[1;33m.\u001b[0m\u001b[0mdependent_edges\u001b[0m\u001b[1;33m(\u001b[0m\u001b[0mpolygon_solver\u001b[0m\u001b[1;33m)\u001b[0m\u001b[1;33m:\u001b[0m\u001b[1;33m\u001b[0m\u001b[1;33m\u001b[0m\u001b[0m\n\u001b[0;32m     57\u001b[0m             \u001b[1;32mreturn\u001b[0m \u001b[1;36m1\u001b[0m\u001b[1;33m\u001b[0m\u001b[1;33m\u001b[0m\u001b[0m\n\u001b[1;32m---> 58\u001b[1;33m         \u001b[1;32mreturn\u001b[0m \u001b[0msum\u001b[0m\u001b[1;33m(\u001b[0m\u001b[0medge\u001b[0m\u001b[1;33m.\u001b[0m\u001b[0mother_end\u001b[0m\u001b[1;33m(\u001b[0m\u001b[0mself\u001b[0m\u001b[1;33m)\u001b[0m\u001b[1;33m.\u001b[0m\u001b[0mvalue\u001b[0m\u001b[1;33m(\u001b[0m\u001b[0mpolygon_solver\u001b[0m\u001b[1;33m)\u001b[0m \u001b[1;32mfor\u001b[0m \u001b[0medge\u001b[0m \u001b[1;32min\u001b[0m \u001b[0mself\u001b[0m\u001b[1;33m.\u001b[0m\u001b[0mdependent_edges\u001b[0m\u001b[1;33m(\u001b[0m\u001b[0mpolygon_solver\u001b[0m\u001b[1;33m)\u001b[0m\u001b[1;33m)\u001b[0m\u001b[1;33m\u001b[0m\u001b[1;33m\u001b[0m\u001b[0m\n\u001b[0m\u001b[0;32m     59\u001b[0m \u001b[1;33m\u001b[0m\u001b[0m\n\u001b[0;32m     60\u001b[0m     \u001b[1;32mdef\u001b[0m \u001b[0m__eq__\u001b[0m\u001b[1;33m(\u001b[0m\u001b[0mself\u001b[0m\u001b[1;33m,\u001b[0m \u001b[0mother\u001b[0m\u001b[1;33m)\u001b[0m \u001b[1;33m->\u001b[0m \u001b[0mbool\u001b[0m\u001b[1;33m:\u001b[0m\u001b[1;33m\u001b[0m\u001b[1;33m\u001b[0m\u001b[0m\n",
      "\u001b[1;31mRecursionError\u001b[0m: maximum recursion depth exceeded while calling a Python object"
     ]
    }
   ],
   "source": [
    "%%time\n",
    "# Solver - plotting is slow and not recommended for n>20\n",
    "solver = PolygonSolver(n=80, plot=False, figsize=20, values=False, head_width=0.01, point_size=12)\n",
    "solver.check_intersections()\n",
    "solver.progressive_solve()"
   ]
  },
  {
   "cell_type": "markdown",
   "metadata": {},
   "source": [
    "### Debugging\n",
    "#### Assertion errors\n",
    "The following code below is used for debugging purposes when the assertion does not hold."
   ]
  },
  {
   "cell_type": "code",
   "execution_count": 9,
   "metadata": {},
   "outputs": [],
   "source": [
    "all_points = sorted(list(solver.point_ls.keys()), key=operator.attrgetter('x', 'y'))"
   ]
  },
  {
   "cell_type": "code",
   "execution_count": 10,
   "metadata": {},
   "outputs": [],
   "source": [
    "def sliding_window_iter(iterable, size):\n",
    "    # https://codereview.stackexchange.com/questions/239352/sliding-window-iteration-in-python\n",
    "    iterables = itertools.tee(iter(iterable), size)\n",
    "    window = zip(*(itertools.islice(t, n, None) for n,t in enumerate(iterables)))\n",
    "    yield from window"
   ]
  },
  {
   "cell_type": "code",
   "execution_count": 11,
   "metadata": {},
   "outputs": [
    {
     "data": {
      "application/vnd.jupyter.widget-view+json": {
       "model_id": "e606d30eb23144dc89077c130c180062",
       "version_major": 2,
       "version_minor": 0
      },
      "text/plain": [
       "HBox(children=(HTML(value=''), FloatProgress(value=0.0, max=1486641.0), HTML(value='')))"
      ]
     },
     "metadata": {},
     "output_type": "display_data"
    },
    {
     "name": "stdout",
     "output_type": "stream",
     "text": [
      "\n"
     ]
    }
   ],
   "source": [
    "similar_points = set()\n",
    "for item in tqdm(sliding_window_iter(all_points, 5), total=len(all_points)):\n",
    "    for a,b in itertools.combinations(item,2):\n",
    "        if abs(a.x - b.x) < TOLERANCE and abs(a.y - b.y) < TOLERANCE:\n",
    "            similar_points.add((a,b))\n",
    "similar_points = list(similar_points)"
   ]
  },
  {
   "cell_type": "code",
   "execution_count": 12,
   "metadata": {},
   "outputs": [
    {
     "data": {
      "text/plain": [
       "[]"
      ]
     },
     "execution_count": 12,
     "metadata": {},
     "output_type": "execute_result"
    }
   ],
   "source": [
    "similar_points"
   ]
  },
  {
   "cell_type": "markdown",
   "metadata": {},
   "source": [
    "#### Recursion errors\n",
    "Recursion errors when a node is connected to itself. To debug, we need to find a node that is connected to itself. The connection may not be immediate; it could be connected to another node; which then links to another node, and then to itself."
   ]
  },
  {
   "cell_type": "code",
   "execution_count": 13,
   "metadata": {},
   "outputs": [
    {
     "data": {
      "application/vnd.jupyter.widget-view+json": {
       "model_id": "6965da3d7de8497d9bd61835cc84ecb0",
       "version_major": 2,
       "version_minor": 0
      },
      "text/plain": [
       "HBox(children=(HTML(value=''), FloatProgress(value=0.0, max=1486641.0), HTML(value='')))"
      ]
     },
     "metadata": {},
     "output_type": "display_data"
    },
    {
     "name": "stdout",
     "output_type": "stream",
     "text": [
      "\n"
     ]
    }
   ],
   "source": [
    "recursive_points = []\n",
    "for point in tqdm(solver.point_ls, total=len(solver.point_ls)):\n",
    "    for edge in point.dependent_edges(solver):\n",
    "        if edge.other_end(point) == point:\n",
    "            recursive_points.append(point)"
   ]
  },
  {
   "cell_type": "code",
   "execution_count": null,
   "metadata": {},
   "outputs": [],
   "source": [
    "recursive_points"
   ]
  },
  {
   "cell_type": "code",
   "execution_count": null,
   "metadata": {},
   "outputs": [],
   "source": [
    "problematic_pt = sorted(solver.point_ls.keys(), key=operator.attrgetter('x', 'y'), reverse=True)[661774]"
   ]
  },
  {
   "cell_type": "code",
   "execution_count": null,
   "metadata": {},
   "outputs": [],
   "source": [
    "problematic_pt"
   ]
  },
  {
   "cell_type": "code",
   "execution_count": null,
   "metadata": {},
   "outputs": [],
   "source": [
    "# list(problematic_pt.dependent_edges(solver))[1].other_end(problematic_pt).value(solver)"
   ]
  },
  {
   "cell_type": "markdown",
   "metadata": {},
   "source": [
    "### Batch run"
   ]
  },
  {
   "cell_type": "code",
   "execution_count": null,
   "metadata": {},
   "outputs": [],
   "source": [
    "current_values = dict()"
   ]
  },
  {
   "cell_type": "code",
   "execution_count": null,
   "metadata": {},
   "outputs": [],
   "source": [
    "def batch_solver(left_bound, right_bound):\n",
    "    for n in range(left_bound, right_bound, 2):\n",
    "        solver = PolygonSolver(n=n, plot=False, figsize=20, values=False, head_width=0.01, point_size=12)\n",
    "        solver.check_intersections()\n",
    "        current_values[n] = solver.progressive_solve()"
   ]
  },
  {
   "cell_type": "code",
   "execution_count": null,
   "metadata": {},
   "outputs": [],
   "source": [
    "batch_solver(80,100)"
   ]
  },
  {
   "cell_type": "markdown",
   "metadata": {},
   "source": [
    "### Computational time\n",
    "We are currently running into problems where we take a long time to compute.\n",
    "\n",
    "There are a few ways to improve this algorithm.\n",
    "1. Exploit the symmetry in the graph along the x-axis to realise that for any point, $(x_1,y_1).value$ will be the same as $(x_1, -y_1).value$ and thus the calculation only needs to be done once."
   ]
  },
  {
   "cell_type": "code",
   "execution_count": 77,
   "metadata": {},
   "outputs": [
    {
     "data": {
      "text/plain": [
       "<matplotlib.collections.PathCollection at 0x1ccc1beedc0>"
      ]
     },
     "execution_count": 77,
     "metadata": {},
     "output_type": "execute_result"
    },
    {
     "data": {
      "image/png": "[encoded data removed]",
      "text/plain": [
       "<Figure size 720x720 with 1 Axes>"
      ]
     },
     "metadata": {
      "needs_background": "light"
     },
     "output_type": "display_data"
    }
   ],
   "source": [
    "from results import solved_values\n",
    "a,b = zip(*solved_values.items())\n",
    "\n",
    "data = {\n",
    "    'n': a,\n",
    "    'paths': [Decimal(item) for item in b]\n",
    "}\n",
    "\n",
    "df = pd.DataFrame.from_dict(data)\n",
    "\n",
    "# Analysis\n",
    "df['ln_paths'] = df['paths'].apply(lambda x: x.ln())\n",
    "df['ln_paths'] = df['ln_paths'].astype(np.float32)\n",
    "df['cubert_ln_paths'] = np.cbrt(df['ln_paths'])\n",
    "\n",
    "# Preparing final plot\n",
    "df = df[['n', 'cubert_ln_paths']].copy()\n",
    "fig, ax = plt.subplots(figsize=(10,10))\n",
    "ax.grid(axis='both', alpha=0.2)\n",
    "ax.scatter(x=df.n, y=df.cubert_ln_paths)"
   ]
  },
  {
   "cell_type": "markdown",
   "metadata": {},
   "source": [
    "As the plot is close to linear, we think that the growth rate in $n$ (where $n$ is the number of sides of the polygon) is $e^{n^3}$."
   ]
  }
 ],
 "metadata": {
  "kernelspec": {
   "display_name": "Python 3",
   "language": "python",
   "name": "python3"
  },
  "language_info": {
   "codemirror_mode": {
    "name": "ipython",
    "version": 3
   },
   "file_extension": ".py",
   "mimetype": "text/x-python",
   "name": "python",
   "nbconvert_exporter": "python",
   "pygments_lexer": "ipython3",
   "version": "3.8.8"
  }
 },
 "nbformat": 4,
 "nbformat_minor": 4
}
