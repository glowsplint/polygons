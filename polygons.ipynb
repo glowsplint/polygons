{
 "cells": [
  {
   "cell_type": "markdown",
   "metadata": {},
   "source": [
    "# Polygons"
   ]
  },
  {
   "cell_type": "markdown",
   "metadata": {},
   "source": [
    "## The Problem"
   ]
  },
  {
   "cell_type": "markdown",
   "metadata": {},
   "source": [
    "Consider an n-sided polygon. Drawing all the lines that connect the vertices, mark out the intersection points. Define a \"decreasing path\" as a path from the starting point to the end point, where the distance to the end point is only decreasing. Using only the vertices of the polygon and the intersection points between these lines, find the total number of decreasing paths."
   ]
  },
  {
   "cell_type": "markdown",
   "metadata": {},
   "source": [
    "## Solution Approach"
   ]
  },
  {
   "cell_type": "markdown",
   "metadata": {},
   "source": [
    "1. Draw a regular polygon\n",
    "2. Draw all lines between points and find the coordinates of all the intersection points\n",
    "3. Draw a circle that is anchored at the endpoint, and wraps the octagon neatly; the diameter of this circle should start at L2 distance of [start point - end point]\n",
    "4. Slowly reduce the circle size. It appears that points that fall out of the circle first have arrows that draw to points that fall out of the circle later"
   ]
  },
  {
   "cell_type": "code",
   "execution_count": 1,
   "metadata": {},
   "outputs": [],
   "source": [
    "import numpy as np\n",
    "import itertools\n",
    "from math import sin, cos, pi\n",
    "from typing import List, Tuple"
   ]
  },
  {
   "cell_type": "markdown",
   "metadata": {},
   "source": [
    "### Create the regular polygon\n",
    "Let's define some restrictions on the polygon.\n",
    "1. Centred on (0,0) with radius 1 unit; thus start point is (1,0) and end point is (-1,0)\n",
    "2. Use the internal angle of a polygon to find the points of the vertices\n",
    "\n",
    "See https://en.wikipedia.org/wiki/Rotation_matrix.\n",
    "\n",
    "Some of the code for Line and Point classes are adapted from https://stackoverflow.com/a/20679579."
   ]
  },
  {
   "cell_type": "code",
   "execution_count": 2,
   "metadata": {},
   "outputs": [],
   "source": [
    "# Rounding precision for floating point calculations\n",
    "PRECISION = 14"
   ]
  },
  {
   "cell_type": "code",
   "execution_count": 3,
   "metadata": {},
   "outputs": [],
   "source": [
    "class Point:\n",
    "    def __init__(self, x: float, y: float):\n",
    "        self.raw_x = x\n",
    "        self.raw_y = y\n",
    "        self.x = round(x, PRECISION) if x != None else None\n",
    "        self.y = round(y, PRECISION) if y != None else None\n",
    "        \n",
    "    @classmethod\n",
    "    def from_intersection(cls, L1: \"Line\"=None, L2: \"Line\"=None) -> \"Point\":\n",
    "        D  = L1.a * L2.b - L1.b * L2.a\n",
    "        Dx = L1.c * L2.b - L1.b * L2.c\n",
    "        Dy = L1.a * L2.c - L1.c * L2.a\n",
    "        \n",
    "        if D != 0:\n",
    "            x = round(Dx / D, PRECISION)\n",
    "            y = round(Dy / D, PRECISION)\n",
    "            \n",
    "            # Disregard points outside the polygon circle\n",
    "            if abs(x) > 1 or abs(y) > 1:\n",
    "                x, y = None, None\n",
    "        else:\n",
    "            x, y = None, None\n",
    "        \n",
    "        return cls(x, y)\n",
    "\n",
    "    def __eq__(self, other):\n",
    "        if isinstance(other, Point):\n",
    "            return self.x == other.x and self.y == other.y\n",
    "        return False\n",
    "    \n",
    "    def __repr__(self):\n",
    "        return f\"Point({self.x}, {self.y})\"\n",
    "    \n",
    "    def __hash__(self):\n",
    "        return hash((self.x, self.y))\n"
   ]
  },
  {
   "cell_type": "code",
   "execution_count": 4,
   "metadata": {},
   "outputs": [],
   "source": [
    "class Line:\n",
    "    def __init__(self, p1, p2):\n",
    "        self.a = p1.y - p2.y\n",
    "        self.b = p2.x - p1.x\n",
    "        self.c = p1.x*p2.y - p2.x*p1.y\n",
    "        \n",
    "    def __repr__(self):\n",
    "        return f\"Line({self.a}, {self.b}, {self.c})\""
   ]
  },
  {
   "cell_type": "code",
   "execution_count": 5,
   "metadata": {},
   "outputs": [],
   "source": [
    "def find_next_coordinate(xy: Tuple[float, float], t: float):\n",
    "    x, y = xy\n",
    "    return (x*cos(t) - y*sin(t), x*sin(t) + y*cos(t))\n",
    "\n",
    "def create_regular_polygon(n: int) -> List[Tuple]:\n",
    "    # Defines a polygon as the list of (x,y) coordinates of the vertices\n",
    "    theta = 2/n * pi\n",
    "    polygon = []\n",
    "    start_xy = (1,0)\n",
    "    \n",
    "    current_xy = start_xy\n",
    "    for i in range(n):\n",
    "        current_xy = find_next_coordinate(current_xy, theta)\n",
    "        polygon.append(current_xy)\n",
    "    polygon = [Point(x,y) for x,y in polygon]\n",
    "    return polygon"
   ]
  },
  {
   "cell_type": "code",
   "execution_count": 6,
   "metadata": {},
   "outputs": [
    {
     "data": {
      "text/plain": [
       "[Point(0.5, 0.86602540378444),\n",
       " Point(-0.5, 0.86602540378444),\n",
       " Point(-1.0, 0.0),\n",
       " Point(-0.5, -0.86602540378444),\n",
       " Point(0.5, -0.86602540378444),\n",
       " Point(1.0, -0.0)]"
      ]
     },
     "execution_count": 6,
     "metadata": {},
     "output_type": "execute_result"
    }
   ],
   "source": [
    "# Test the polygon creation function\n",
    "create_regular_polygon(6)"
   ]
  },
  {
   "cell_type": "markdown",
   "metadata": {},
   "source": [
    "### Find the intersection points"
   ]
  },
  {
   "cell_type": "code",
   "execution_count": 7,
   "metadata": {},
   "outputs": [],
   "source": [
    "polygon = create_regular_polygon(6)\n",
    "lines = [Line(a,b) for a,b in list(itertools.combinations(polygon, 2))]\n",
    "points = set(Point.from_intersection(a,b) for a,b in list(itertools.combinations(lines, 2)))"
   ]
  },
  {
   "cell_type": "code",
   "execution_count": 8,
   "metadata": {},
   "outputs": [
    {
     "data": {
      "text/plain": [
       "[Point(0.5, 0.86602540378444),\n",
       " Point(-0.5, 0.86602540378444),\n",
       " Point(-1.0, 0.0),\n",
       " Point(-0.5, -0.86602540378444),\n",
       " Point(0.5, -0.86602540378444),\n",
       " Point(1.0, -0.0)]"
      ]
     },
     "execution_count": 8,
     "metadata": {},
     "output_type": "execute_result"
    }
   ],
   "source": [
    "polygon"
   ]
  },
  {
   "cell_type": "code",
   "execution_count": 9,
   "metadata": {},
   "outputs": [
    {
     "data": {
      "text/plain": [
       "[Line(0.0, -1.0, 0.86602540378444),\n",
       " Line(0.86602540378444, -1.5, 0.86602540378444),\n",
       " Line(1.73205080756888, -1.0, 0.0),\n",
       " Line(1.73205080756888, 0.0, -0.86602540378444),\n",
       " Line(0.86602540378444, 0.5, -0.86602540378444),\n",
       " Line(0.86602540378444, -0.5, 0.86602540378444),\n",
       " Line(1.73205080756888, 0.0, 0.86602540378444),\n",
       " Line(1.73205080756888, 1.0, 0.0),\n",
       " Line(0.86602540378444, 1.5, -0.86602540378444),\n",
       " Line(0.86602540378444, 0.5, 0.86602540378444),\n",
       " Line(0.86602540378444, 1.5, 0.86602540378444),\n",
       " Line(0.0, 2.0, 0.0),\n",
       " Line(0.0, 1.0, 0.86602540378444),\n",
       " Line(-0.86602540378444, 1.5, 0.86602540378444),\n",
       " Line(-0.86602540378444, 0.5, 0.86602540378444)]"
      ]
     },
     "execution_count": 9,
     "metadata": {},
     "output_type": "execute_result"
    }
   ],
   "source": [
    "lines"
   ]
  },
  {
   "cell_type": "code",
   "execution_count": 10,
   "metadata": {},
   "outputs": [],
   "source": [
    "points.remove(Point(None, None))"
   ]
  },
  {
   "cell_type": "code",
   "execution_count": 11,
   "metadata": {},
   "outputs": [
    {
     "data": {
      "text/plain": [
       "{Point(-0.25, -0.43301270189222),\n",
       " Point(-0.25, 0.43301270189222),\n",
       " Point(-0.5, -0.28867513459481),\n",
       " Point(-0.5, -0.86602540378444),\n",
       " Point(-0.5, 0.0),\n",
       " Point(-0.5, 0.28867513459481),\n",
       " Point(-0.5, 0.86602540378444),\n",
       " Point(-1.0, 0.0),\n",
       " Point(0.0, -0.57735026918963),\n",
       " Point(0.0, 0.0),\n",
       " Point(0.0, 0.57735026918963),\n",
       " Point(0.25, -0.43301270189222),\n",
       " Point(0.25, 0.43301270189222),\n",
       " Point(0.5, -0.28867513459481),\n",
       " Point(0.5, -0.86602540378444),\n",
       " Point(0.5, 0.0),\n",
       " Point(0.5, 0.28867513459481),\n",
       " Point(0.5, 0.86602540378444),\n",
       " Point(1.0, 0.0)}"
      ]
     },
     "execution_count": 11,
     "metadata": {},
     "output_type": "execute_result"
    }
   ],
   "source": [
    "points"
   ]
  },
  {
   "cell_type": "markdown",
   "metadata": {},
   "source": [
    "### Get all the line segments"
   ]
  },
  {
   "cell_type": "code",
   "execution_count": null,
   "metadata": {},
   "outputs": [],
   "source": []
  },
  {
   "cell_type": "markdown",
   "metadata": {},
   "source": [
    "### Draw a circle that is anchored at the endpoint and wraps the octagon neatly."
   ]
  },
  {
   "cell_type": "code",
   "execution_count": null,
   "metadata": {},
   "outputs": [],
   "source": []
  }
 ],
 "metadata": {
  "kernelspec": {
   "display_name": "Python 3",
   "language": "python",
   "name": "python3"
  },
  "language_info": {
   "codemirror_mode": {
    "name": "ipython",
    "version": 3
   },
   "file_extension": ".py",
   "mimetype": "text/x-python",
   "name": "python",
   "nbconvert_exporter": "python",
   "pygments_lexer": "ipython3",
   "version": "3.8.8"
  }
 },
 "nbformat": 4,
 "nbformat_minor": 4
}
