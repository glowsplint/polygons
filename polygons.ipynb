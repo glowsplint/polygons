{
 "cells": [
  {
   "cell_type": "markdown",
   "metadata": {},
   "source": [
    "# Polygons"
   ]
  },
  {
   "cell_type": "markdown",
   "metadata": {},
   "source": [
    "## The Problem"
   ]
  },
  {
   "cell_type": "markdown",
   "metadata": {},
   "source": [
    "Consider an n-sided polygon where n is even. We draw all the lines that connect the vertices, and mark out the intersection points. This creates a graph with the vertices and intersection points as the nodes of the graph, and the edges are the line segments between the vertices and the intersection points. You can refer to the plot below.\n",
    "\n",
    "We define a start point and an end point as the opposite vertices of the polygon. We also define a \"decreasing path\" as a path along the edges of the graph that links the start point to the end point, where the distance to the end point is strictly decreasing while moving along the path. Find the total number of decreasing paths available."
   ]
  },
  {
   "cell_type": "markdown",
   "metadata": {},
   "source": [
    "## Solution Approach"
   ]
  },
  {
   "cell_type": "markdown",
   "metadata": {},
   "source": [
    "1. Draw a regular polygon\n",
    "2. Draw all lines between points and find the coordinates of all the intersection points\n",
    "3. Draw a circle that is anchored at the endpoint, and wraps the octagon neatly; the diameter of this circle should start at L2 distance of [start point - end point]\n",
    "4. Slowly reduce the circle size. It appears that points that fall out of the circle first have arrows that draw to points that fall out of the circle later"
   ]
  },
  {
   "cell_type": "code",
   "execution_count": 1,
   "metadata": {},
   "outputs": [],
   "source": [
    "import numpy as np\n",
    "import itertools\n",
    "import operator\n",
    "\n",
    "from math import sin, cos, pi, sqrt\n",
    "from typing import List, Tuple\n",
    "from matplotlib import pyplot as plt"
   ]
  },
  {
   "cell_type": "markdown",
   "metadata": {},
   "source": [
    "### Create the regular polygon\n",
    "Let's define some restrictions on the polygon.\n",
    "1. Centred on (0,0) with radius 1 unit; thus start point is (1,0) and end point is (-1,0)\n",
    "2. Use the internal angle of a polygon to find the points of the vertices\n",
    "\n",
    "See https://en.wikipedia.org/wiki/Rotation_matrix.\n",
    "\n",
    "Some of the code for Line and Point classes are adapted from https://stackoverflow.com/a/20679579. Also written with mathematical reference to https://observablehq.com/@toja/line-box-intersection."
   ]
  },
  {
   "cell_type": "code",
   "execution_count": 2,
   "metadata": {},
   "outputs": [],
   "source": [
    "# Rounding precision for floating point calculations\n",
    "PRECISION = 13"
   ]
  },
  {
   "cell_type": "code",
   "execution_count": 3,
   "metadata": {},
   "outputs": [],
   "source": [
    "class Point:\n",
    "    def __init__(self, x: float, y: float):\n",
    "        self.x = round(x, PRECISION) if x != None else None\n",
    "        self.y = round(y, PRECISION) if y != None else None\n",
    "        \n",
    "    @classmethod\n",
    "    def from_intersection(cls, L1:\"LineSegment\"=None, L2:\"LineSegment\"=None) -> \"Point\":\n",
    "        '''\n",
    "        Alternate constructor for Point via intersection of two LineSegments.\n",
    "        '''\n",
    "        D  = L1.a * L2.b - L1.b * L2.a\n",
    "        Dx = L1.c * L2.b - L1.b * L2.c\n",
    "        Dy = L1.a * L2.c - L1.c * L2.a\n",
    "        \n",
    "        if D != 0:\n",
    "            x = round(Dx / D, PRECISION)\n",
    "            y = round(Dy / D, PRECISION)\n",
    "            \n",
    "            # Disregard points outside the polygon circle\n",
    "            if sqrt(x**2 + y**2) > 1:\n",
    "                x, y = None, None\n",
    "        else:\n",
    "            x, y = None, None\n",
    "        \n",
    "        return cls(x, y)\n",
    "\n",
    "    def lies_on(self, L:\"LineSegment\") -> bool:\n",
    "        '''\n",
    "        Checks that the point lies on a given line segment.\n",
    "        '''\n",
    "        try:\n",
    "            if self.x is not None or self.y is not None:\n",
    "                return self.y - L.p1.y == (-L.a)/(L.b) * (self.x - L.p1.x)\n",
    "        except ZeroDivisionError:\n",
    "            return self.x == L.p1.x\n",
    "        return False\n",
    "    \n",
    "    def __eq__(self, other):\n",
    "        if isinstance(other, Point):\n",
    "            return self.x == other.x and self.y == other.y\n",
    "        return False\n",
    "    \n",
    "    def __repr__(self):\n",
    "        if self.x is not None and self.y is not None:\n",
    "            return f\"Point({round(self.x, 5)}, {round(self.y, 5)})\"\n",
    "        return f\"Point(None, None)\"\n",
    "    \n",
    "    def __hash__(self):\n",
    "        return hash((self.x, self.y))\n"
   ]
  },
  {
   "cell_type": "code",
   "execution_count": 4,
   "metadata": {},
   "outputs": [],
   "source": [
    "class LineSegment:\n",
    "    def __init__(self, p1: \"Point\", p2: \"Point\"):\n",
    "        self.p1 = p1\n",
    "        self.p2 = p2\n",
    "        \n",
    "        # Used for Cramer's rule\n",
    "        self.a = p1.y - p2.y\n",
    "        self.b = p2.x - p1.x\n",
    "        self.c = p1.x*p2.y - p2.x*p1.y\n",
    "        \n",
    "    def __repr__(self):\n",
    "        return f\"LineSegment({self.p1}, {self.p2})\"    "
   ]
  },
  {
   "cell_type": "code",
   "execution_count": 5,
   "metadata": {},
   "outputs": [],
   "source": [
    "def find_next_coordinate(xy: Tuple[float, float], t: float):\n",
    "    x, y = xy\n",
    "    return (x*cos(t) - y*sin(t), x*sin(t) + y*cos(t))\n",
    "\n",
    "def create_regular_polygon(n: int) -> List[Tuple]:\n",
    "    # Defines a polygon as the list of (x,y) coordinates of the vertices\n",
    "    theta = 2/n * pi\n",
    "    polygon = []\n",
    "    start_xy = (1,0)\n",
    "    \n",
    "    current_xy = start_xy\n",
    "    for i in range(n):\n",
    "        current_xy = find_next_coordinate(current_xy, theta)\n",
    "        polygon.append(current_xy)\n",
    "    polygon = [Point(x,y) for x,y in polygon]\n",
    "    return polygon"
   ]
  },
  {
   "cell_type": "code",
   "execution_count": 6,
   "metadata": {},
   "outputs": [
    {
     "data": {
      "text/plain": [
       "[Point(0.0, 1.0), Point(-1.0, 0.0), Point(-0.0, -1.0), Point(1.0, -0.0)]"
      ]
     },
     "execution_count": 6,
     "metadata": {},
     "output_type": "execute_result"
    }
   ],
   "source": [
    "# Test the polygon creation function\n",
    "create_regular_polygon(4)"
   ]
  },
  {
   "cell_type": "markdown",
   "metadata": {},
   "source": [
    "### Find the intersection points\n",
    "We first create the polygon. Next, we draw a line for every pair of polygon vertices. We then find the intersection points of every pair of line segments."
   ]
  },
  {
   "cell_type": "code",
   "execution_count": 7,
   "metadata": {},
   "outputs": [],
   "source": [
    "n = 6\n",
    "polygon = create_regular_polygon(n)\n",
    "lines = [LineSegment(a,b) for a,b in itertools.combinations(polygon, 2)]\n",
    "points = set(Point.from_intersection(a,b) for a,b in itertools.combinations(lines, 2))"
   ]
  },
  {
   "cell_type": "code",
   "execution_count": 8,
   "metadata": {},
   "outputs": [
    {
     "data": {
      "text/plain": [
       "[Point(0.5, 0.86603),\n",
       " Point(-0.5, 0.86603),\n",
       " Point(-1.0, 0.0),\n",
       " Point(-0.5, -0.86603),\n",
       " Point(0.5, -0.86603),\n",
       " Point(1.0, -0.0)]"
      ]
     },
     "execution_count": 8,
     "metadata": {},
     "output_type": "execute_result"
    }
   ],
   "source": [
    "polygon"
   ]
  },
  {
   "cell_type": "code",
   "execution_count": 9,
   "metadata": {},
   "outputs": [],
   "source": [
    "lines;"
   ]
  },
  {
   "cell_type": "code",
   "execution_count": 10,
   "metadata": {},
   "outputs": [],
   "source": [
    "points.remove(Point(None, None))\n",
    "points;"
   ]
  },
  {
   "cell_type": "code",
   "execution_count": 11,
   "metadata": {},
   "outputs": [
    {
     "data": {
      "text/plain": [
       "<matplotlib.collections.PathCollection at 0x296e6737af0>"
      ]
     },
     "execution_count": 11,
     "metadata": {},
     "output_type": "execute_result"
    },
    {
     "data": {
      "image/png": "[encoded data removed]",
      "text/plain": [
       "<Figure size 576x576 with 1 Axes>"
      ]
     },
     "metadata": {
      "needs_background": "light"
     },
     "output_type": "display_data"
    }
   ],
   "source": [
    "x = [point.x for point in points]\n",
    "y = [point.y for point in points]\n",
    "\n",
    "# Configurations\n",
    "limit = 1.1\n",
    "fig, ax = plt.subplots(figsize=(8,8))\n",
    "ax.set_xlim(-limit, limit)\n",
    "ax.set_ylim(-limit, limit)\n",
    "ax.set_aspect('equal', adjustable='box')\n",
    "ax.grid(axis='both', alpha=0.2)\n",
    "\n",
    "# Lines\n",
    "for line in lines:\n",
    "    ax.plot([line.p1.x, line.p2.x], [line.p1.y, line.p2.y])\n",
    "\n",
    "# Points\n",
    "ax.scatter(x,y) "
   ]
  },
  {
   "cell_type": "code",
   "execution_count": 12,
   "metadata": {},
   "outputs": [
    {
     "data": {
      "text/plain": [
       "19"
      ]
     },
     "execution_count": 12,
     "metadata": {},
     "output_type": "execute_result"
    }
   ],
   "source": [
    "len(points)"
   ]
  },
  {
   "cell_type": "code",
   "execution_count": 13,
   "metadata": {},
   "outputs": [],
   "source": [
    "# Add back the vertices due to rounding error\n",
    "points.update(polygon)"
   ]
  },
  {
   "cell_type": "code",
   "execution_count": 14,
   "metadata": {},
   "outputs": [],
   "source": [
    "points;"
   ]
  },
  {
   "cell_type": "markdown",
   "metadata": {},
   "source": [
    "### Get all the line segments\n",
    "Every line segment in the diagram above fulfills the following conditions:\n",
    "1. Both ends of the line segment must be either an intersection point or a vertex\n",
    "2. They must be an equal or shorter line deriving from one of the already drawn lines\n",
    "\n",
    "A possible approach would be to:\n",
    "1. For every line segment that we have generated, first find which points/vertices lie on it.\n",
    "2. Break up the line segment into smaller line segments where possible\n",
    "    - For vertex-vertex line segments with no intersection points lying on it, no smaller line segments are possible"
   ]
  },
  {
   "cell_type": "code",
   "execution_count": 15,
   "metadata": {},
   "outputs": [],
   "source": [
    "# A dict[LineSegment: List] containing all the points for all line segments\n",
    "line_points = {line: [point for point in points if point.lies_on(line)] for line in lines}"
   ]
  },
  {
   "cell_type": "markdown",
   "metadata": {},
   "source": [
    "Assume we have a dictionary of {line: [points]}.\n",
    "1. If len(points) == 2: Add the line to the final list\n",
    "2. else: if the x-coord of the first two are different (not a vertical line). sort the points by x\n",
    "3. else: (vertical line) we sort the points by y\n",
    "4. Line segments are built by going across the list and taking a pair of points as line segments"
   ]
  },
  {
   "cell_type": "code",
   "execution_count": 16,
   "metadata": {},
   "outputs": [],
   "source": [
    "line_segments = []\n",
    "for ls, p in line_points.items():\n",
    "    if len(p) == 2:\n",
    "        line_segments.append(ls)\n",
    "    else:\n",
    "        sorted_points = sorted(p, key=operator.attrgetter('x','y'))\n",
    "        for previous, current in zip(sorted_points, sorted_points[1:]):\n",
    "            line_segments.append(LineSegment(previous, current))"
   ]
  },
  {
   "cell_type": "code",
   "execution_count": 17,
   "metadata": {},
   "outputs": [
    {
     "name": "stdout",
     "output_type": "stream",
     "text": [
      "42\n"
     ]
    }
   ],
   "source": [
    "assert len(line_segments) == n + n*(n-2)*(n-3)/2\n",
    "print(len(line_segments))"
   ]
  },
  {
   "cell_type": "markdown",
   "metadata": {},
   "source": [
    "### Label all the line segments"
   ]
  },
  {
   "cell_type": "code",
   "execution_count": null,
   "metadata": {},
   "outputs": [],
   "source": []
  }
 ],
 "metadata": {
  "kernelspec": {
   "display_name": "Python 3",
   "language": "python",
   "name": "python3"
  },
  "language_info": {
   "codemirror_mode": {
    "name": "ipython",
    "version": 3
   },
   "file_extension": ".py",
   "mimetype": "text/x-python",
   "name": "python",
   "nbconvert_exporter": "python",
   "pygments_lexer": "ipython3",
   "version": "3.8.8"
  }
 },
 "nbformat": 4,
 "nbformat_minor": 4
}
